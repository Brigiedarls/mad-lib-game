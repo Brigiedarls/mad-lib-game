{
 "cells": [
  {
   "cell_type": "code",
   "execution_count": 33,
   "id": "acfc3a42",
   "metadata": {},
   "outputs": [
    {
     "name": "stdout",
     "output_type": "stream",
     "text": [
      "enter a noun:bed\n",
      "enter a plural noun:button\n",
      "enter a verb:kill\n",
      "enter a verb:be\n",
      "enter a plural:black\n",
      "enter an adjective:open\n",
      "enter a plural noun:clothes\n",
      "enter an adjective:even\n",
      "Today every student has a computer small enough to fit into hisbed\n",
      "He can solve any maths problem by simply pushing the computer's littlebutton\n",
      "Computers can add, multiply, divide andkill\n",
      "They can alsobe\n",
      "better than a human\n",
      "Some computers areblack\n",
      "Others have a/anopen\n",
      "screen that shows all kinds ofclothes\n",
      "andeven\n",
      "figures\n"
     ]
    }
   ],
   "source": [
    "noun= input(\"enter a noun:\")\n",
    "plural_noun1= input(\"enter a plural noun:\")\n",
    "verb1= input(\"enter a verb:\")\n",
    "verb2= input(\"enter a verb:\")\n",
    "plural= input(\"enter a plural:\")\n",
    "adjective1= input(\"enter an adjective:\")\n",
    "plural_noun2= input(\"enter a plural noun:\")\n",
    "adjective2= input(\"enter an adjective:\")\n",
    "\n",
    "print(\"Today every student has a computer small enough to fit into his\" + noun)\n",
    "print(\"He can solve any maths problem by simply pushing the computer's little\" + plural_noun1)\n",
    "print(\"Computers can add, multiply, divide and\" + verb1)\n",
    "print(\"They can also\" + verb2)\n",
    "print(\"better than a human\")\n",
    "print(\"Some computers are\" + plural)\n",
    "print(\"Others have a/an\" + adjective1)\n",
    "print(\"screen that shows all kinds of\" + plural_noun2)\n",
    "print(\"and\" + adjective2)\n",
    "print(\"figures\")"
   ]
  },
  {
   "cell_type": "code",
   "execution_count": null,
   "id": "cf2b761e",
   "metadata": {},
   "outputs": [],
   "source": []
  }
 ],
 "metadata": {
  "kernelspec": {
   "display_name": "Python 3 (ipykernel)",
   "language": "python",
   "name": "python3"
  },
  "language_info": {
   "codemirror_mode": {
    "name": "ipython",
    "version": 3
   },
   "file_extension": ".py",
   "mimetype": "text/x-python",
   "name": "python",
   "nbconvert_exporter": "python",
   "pygments_lexer": "ipython3",
   "version": "3.9.7"
  }
 },
 "nbformat": 4,
 "nbformat_minor": 5
}
